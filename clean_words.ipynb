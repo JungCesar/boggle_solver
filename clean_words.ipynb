{
 "cells": [
  {
   "cell_type": "markdown",
   "metadata": {},
   "source": [
    "# Clean the wordlist"
   ]
  },
  {
   "cell_type": "code",
   "execution_count": 2,
   "metadata": {},
   "outputs": [
    {
     "name": "stdout",
     "output_type": "stream",
     "text": [
      "Number of words before cleaning: 413283\n",
      "Number of words after cleaning: 391384\n",
      "----------------------------------------\n",
      "The difference is: 21899\n",
      "Done\n"
     ]
    }
   ],
   "source": [
    "with open(\"words.txt\", \"r\") as file:\n",
    "    words = file.readlines()\n",
    "    print('Number of words before cleaning:', len(words))\n",
    "\n",
    "cleaned_words = list(set([word.strip().lower() for word in words if word.strip().isalpha() and len(word.strip()) > 1]))\n",
    "cleaned_words.sort()\n",
    "\n",
    "with open(\"clean_words.txt\", \"w\") as file:\n",
    "    for word in cleaned_words:\n",
    "        file.write(word + \"\\n\")\n",
    "\n",
    "print('Number of words after cleaning:', len(cleaned_words))\n",
    "print('----------------------------------------')\n",
    "print('The difference is:', len(words) - len(cleaned_words))\n",
    "print('Done')\n",
    "\n"
   ]
  },
  {
   "cell_type": "code",
   "execution_count": null,
   "metadata": {},
   "outputs": [],
   "source": []
  }
 ],
 "metadata": {
  "kernelspec": {
   "display_name": "Python 3",
   "language": "python",
   "name": "python3"
  },
  "language_info": {
   "codemirror_mode": {
    "name": "ipython",
    "version": 3
   },
   "file_extension": ".py",
   "mimetype": "text/x-python",
   "name": "python",
   "nbconvert_exporter": "python",
   "pygments_lexer": "ipython3",
   "version": "3.9.6"
  }
 },
 "nbformat": 4,
 "nbformat_minor": 2
}
